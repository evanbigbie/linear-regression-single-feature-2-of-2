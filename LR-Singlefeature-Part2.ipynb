{
 "cells": [
  {
   "cell_type": "markdown",
   "metadata": {},
   "source": [
    "## 1 - Packages ##\n",
    "\n",
    "First, you need to import all the packages that you will need during this assignment. \n",
    "- [numpy](www.numpy.org) is the fundamental package for scientific computing with Python.\n",
    "- [pandas](pandas.pydata.org/) is an important package for Python data analysis.\n",
    "- [matplotlib](http://matplotlib.org) is a famous library to plot graphs in Python.\n"
   ]
  },
  {
   "cell_type": "code",
   "execution_count": 1,
   "metadata": {},
   "outputs": [],
   "source": [
    "import numpy as np\n",
    "import pandas as pd\n",
    "import matplotlib.pyplot as plt"
   ]
  },
  {
   "cell_type": "markdown",
   "metadata": {},
   "source": [
    "## 2 - Problem Statement ##\n",
    "\n",
    "You are given a dataset containing:\n",
    "    - a training set for a linear function\n",
    "    - a test set for testing the learned hypothesis function \n",
    "    \n",
    "You will build a simple linear regression algorithm that can correctly identify the parameters of w0 and w1."
   ]
  },
  {
   "cell_type": "markdown",
   "metadata": {},
   "source": [
    "## 3 - Cost and Gradients ##\n",
    "\n",
    "Forward Propagation:\n",
    "- You get X\n",
    "- You compute $h(x) = w_{1} * x + w_{0}$\n",
    "- You calculate the cost function:  $$E(W) = \\frac{1}{2m} \\sum_{i=1}^{n} \\left(h_{W}(x^{(i)})  - y^{(i)}\\right)^2$$. \n",
    "\n",
    "Here are the two formulas you will be using: \n",
    "\n",
    "$$ \\frac{\\partial E}{\\partial w_{1}} = \\frac{1}{m} \\sum_{i=1}^m (( w_{0} + w_{1} * x^{(i)} -y^{(i)}) * x^{(i)})\\tag{8}$$\n",
    "$$ \\frac{\\partial E}{\\partial w_{0}} = \\frac{1}{m} \\sum_{i=1}^m (( w_{0} + w_{1} * x^{(i)} -y^{(i)}))\\tag{8}$$"
   ]
  },
  {
   "cell_type": "code",
   "execution_count": 2,
   "metadata": {},
   "outputs": [],
   "source": [
    "# FUNCTION: propagate\n",
    "# Implement the cost function and gradients\n",
    "def propagate(w_1, w_0, X, Y):\n",
    "    \"\"\"\n",
    "    Arguments:\n",
    "    w_1 -- the weight associated with the single feature, a scalar\n",
    "    w_0 -- bias, a scalar\n",
    "    X -- data of the series of single feature\n",
    "    Y -- true \"label\" vector\n",
    "\n",
    "    Return:\n",
    "    cost -- outcome of the cost function\n",
    "    dw_1 -- gradient of the loss with respect to w_1\n",
    "    dw_0 -- gradient of the loss with respect to w_0\n",
    "    \n",
    "    \"\"\"\n",
    "    # m: number of training examples\n",
    "    m = X.shape[1]\n",
    "    \n",
    "    cost = 0\n",
    "    dw_1 = 0\n",
    "    dw_0 = 0\n",
    "    \n",
    "    #iterate through all the training examples to\n",
    "    #    1. Calculate the accumulated cost\n",
    "    #    2. calcuate the accumulated gradient dw_0 and dw_1\n",
    "    \n",
    "    for i in range(m):\n",
    "########\n",
    "        #get x\n",
    "        x = X[0, i]\n",
    "        y = Y[0, i]\n",
    "        \n",
    "        #compute h(x) = w1 * x + w0\n",
    "        h = (w_1 * x) + w_0\n",
    "\n",
    "        #calculate the cost function       \n",
    "        cost += (h - y) ** 2\n",
    "        \n",
    "        dw_1 += 2*((w_0 + (w_1 * x) - y) * x)  \n",
    "        dw_0 += 2*(w_0 + (w_1 * x) - y)\n",
    "########\n",
    "    \n",
    "    #Use the accumulated cost and gradients to calculate the averaged counterparts\n",
    "    cost = cost / (2 * m)\n",
    "    dw_1 = dw_1 / m\n",
    "    dw_0 = dw_0 / m\n",
    "    \n",
    "    \n",
    "    grads = {\n",
    "        \"dw_1\": dw_1,\n",
    "        \"dw_0\": dw_0\n",
    "    }\n",
    "    \n",
    "    return grads, cost"
   ]
  },
  {
   "cell_type": "markdown",
   "metadata": {},
   "source": [
    "## 4 Optimization with Gradient Descent\n",
    "- You have computed a cost function and its gradients.\n",
    "- Now, you want to update the parameters using gradient descent.\n",
    "\n",
    "**Key points:** Write down the optimization function. The goal is to learn $w_{1}$ and $w_{0}$ by minimizing the cost function $E$. For a parameter $w$, the update rule is $ w = w - \\alpha \\text{ } dw$, where $\\alpha$ is the learning rate."
   ]
  },
  {
   "cell_type": "code",
   "execution_count": 3,
   "metadata": {},
   "outputs": [],
   "source": [
    "#  FUNCTION: optimize\n",
    "\n",
    "def optimize(w_1, w_0, X, Y, num_iterations, learning_rate, print_cost = False):\n",
    "    \"\"\"\n",
    "    This function optimizes w_0 and w_1 by running a gradient descent algorithm\n",
    "    \n",
    "    Arguments:\n",
    "    w_1 -- the weight associated with the single feature, a scalar\n",
    "    w_0 -- bias, a scalar\n",
    "    X -- data of the single feature\n",
    "    Y -- true \"label\" vector \n",
    "    num_iterations -- number of iterations of the optimization loop\n",
    "    learning_rate -- learning rate of the gradient descent update rule\n",
    "    print_cost -- True to print the loss every 100 steps\n",
    "    \n",
    "    Returns:\n",
    "    params -- dictionary containing the weights w and bias b\n",
    "    grads -- dictionary containing the gradients of the weights and bias with respect to the cost function\n",
    "    costs -- list of all the costs computed during the optimization, this will be used to plot the learning curve.\n",
    "    \n",
    "    Tips:\n",
    "    You need to finish the following steps:\n",
    "        1) Calculate the cost and the gradient for the current parameters. Use propagate().\n",
    "        2) Update the parameters using gradient descent rule for w_0 and w_1.\n",
    "    \"\"\"\n",
    "    \n",
    "    costs = []\n",
    "    \n",
    "    for i in range(num_iterations):\n",
    "########\n",
    "        grads, cost = propagate(w_1, w_0, X, Y)\n",
    "        \n",
    "        dw_1 = grads['dw_1']\n",
    "        dw_0 = grads['dw_0']\n",
    "        \n",
    "        w_1 = w_1 - learning_rate * dw_1\n",
    "        w_0 = w_0 - learning_rate * dw_0\n",
    "########        \n",
    "        \n",
    "        if((i % 100) == 0):\n",
    "            costs.append(cost)\n",
    "            \n",
    "        # Print the cost every 100 training examples\n",
    "        if print_cost and i % 100 == 0:\n",
    "            print (\"Cost after iteration %i: %f\" %(i, cost))\n",
    "        \n",
    "        \n",
    "    params = {\n",
    "        \"w_1\": w_1,\n",
    "        \"w_0\": w_0\n",
    "    }\n",
    "\n",
    "    grads = {\n",
    "        \"dw_1\": dw_1,\n",
    "        \"dw_0\": dw_0\n",
    "    }\n",
    "        \n",
    "    return params, grads, costs"
   ]
  },
  {
   "cell_type": "markdown",
   "metadata": {},
   "source": [
    "### Make Predictions ###\n",
    "The predicted output is calculated as $h(x) = w_{1} * x + w_{0}$"
   ]
  },
  {
   "cell_type": "code",
   "execution_count": 4,
   "metadata": {},
   "outputs": [],
   "source": [
    "# GRADED FUNCTION: predict\n",
    "\n",
    "def predict(w_1, w_0, X):\n",
    "    '''\n",
    "    Predict the value using learned linear regression parameters (w_0, w_1)\n",
    "    \n",
    "    Arguments:\n",
    "    w_1 -- the weight associated with the single feature, a scalar\n",
    "    w_0 -- bias, a scalar\n",
    "    X -- data of single feature\n",
    "    \n",
    "    Returns:\n",
    "    Y_prediction -- predictions for all items in X\n",
    "    '''\n",
    "    \n",
    "####\n",
    "    # Hint: You can use matrix/array operation. \n",
    "    # For example, if B is a matrix, 2 * B ends up with every item in matrix B being multiplied by 2\n",
    "     \n",
    "    # X is a matrix here:   \n",
    "    m = X.shape[1]\n",
    "    A = np.zeros(shape=(1, m))\n",
    "    \n",
    "    for i in range(m):\n",
    "        \n",
    "        x = X[0, i]\n",
    "        h = (w_1 * x) + w_0\n",
    "        A[0, i] = h\n",
    "####    \n",
    "    \n",
    "    return A"
   ]
  },
  {
   "cell_type": "code",
   "execution_count": 5,
   "metadata": {},
   "outputs": [],
   "source": [
    "# GRADED FUNCTION: model\n",
    "\n",
    "def model(X_train, Y_train, X_test, Y_test, num_iterations = 2000, learning_rate = 0.5, print_cost = False):\n",
    "    \"\"\"\n",
    "    Builds the logistic regression model by calling the function you've implemented previously\n",
    "    \n",
    "    Arguments:\n",
    "    X_train -- training set represented by a numpy array\n",
    "    Y_train -- training labels represented by a numpy array (vector)\n",
    "    X_test -- test set represented by a numpy array\n",
    "    Y_test -- test labels represented by a numpy array (vector)\n",
    "    num_iterations -- hyperparameter representing the number of iterations to optimize the parameters\n",
    "    learning_rate -- hyperparameter representing the learning rate used in the update rule of optimize()\n",
    "    print_cost -- Set to true to print the cost every 100 iterations\n",
    "    \n",
    "    Returns:\n",
    "    d -- dictionary containing information about the model.\n",
    "    \"\"\"\n",
    "    w_1 = 0\n",
    "    w_0 = 0\n",
    "    \n",
    "    # Gradient descent (≈ 1 line of code)\n",
    "    parameters, grads, costs = optimize(w_1, w_0, X_train, Y_train, num_iterations, learning_rate, print_cost)\n",
    "    \n",
    "    # Retrieve parameters w_1 and w_0 from dictionary \"parameters\"\n",
    "    w_1 = parameters[\"w_1\"]\n",
    "    w_0 = parameters[\"w_0\"]\n",
    "    \n",
    "    # Predict test/train set examples\n",
    "    Y_prediction_test = predict(w_1, w_0, X_test)\n",
    "    Y_prediction_train = predict(w_1, w_0, X_train)\n",
    "\n",
    "\n",
    "    # Print train/test Errors\n",
    "    print(\"train accuracy: {} %\".format(100 - np.mean(np.abs(Y_prediction_train - Y_train)) * 100))\n",
    "    print(\"test accuracy: {} %\".format(100 - np.mean(np.abs(Y_prediction_test - Y_test)) * 100))\n",
    "\n",
    "    \n",
    "    d = {\"costs\": costs,\n",
    "         \"Y_prediction_test\": Y_prediction_test, \n",
    "         \"Y_prediction_train\" : Y_prediction_train, \n",
    "         \"w_1\" : w_1, \n",
    "         \"w_0\" : w_0,\n",
    "         \"learning_rate\" : learning_rate,\n",
    "         \"num_iterations\": num_iterations}\n",
    "    \n",
    "    return d"
   ]
  },
  {
   "cell_type": "markdown",
   "metadata": {},
   "source": [
    "### Load Data and Start the Learning Process ###\n",
    "You can change num_iterations and learning_rate to see the learning process"
   ]
  },
  {
   "cell_type": "code",
   "execution_count": 6,
   "metadata": {},
   "outputs": [
    {
     "data": {
      "image/png": "[encoded data removed]",
      "text/plain": [
       "<Figure size 432x288 with 1 Axes>"
      ]
     },
     "metadata": {
      "needs_background": "light"
     },
     "output_type": "display_data"
    },
    {
     "name": "stdout",
     "output_type": "stream",
     "text": [
      "Cost after iteration 0: 32.072734\n",
      "Cost after iteration 100: 5.175697\n",
      "Cost after iteration 200: 4.816282\n",
      "Cost after iteration 300: 4.641746\n",
      "Cost after iteration 400: 4.556988\n",
      "Cost after iteration 500: 4.515829\n",
      "Cost after iteration 600: 4.495841\n",
      "Cost after iteration 700: 4.486135\n",
      "Cost after iteration 800: 4.481421\n",
      "Cost after iteration 900: 4.479132\n",
      "train accuracy: -120.09382333439521 %\n",
      "test accuracy: -1658.8427174795784 %\n",
      "w_1 is 1.1822480052540147 and w_0 is -3.7884192615511836\n"
     ]
    }
   ],
   "source": [
    "df = pd.read_csv('housing_train.csv', header=None)\n",
    "\n",
    "#Load the training set\n",
    "X_train = df[0].values.reshape(-1, 1).T\n",
    "Y_train = df[1].values.reshape(-1, 1).T\n",
    "\n",
    "#load the testing set\n",
    "df_test = pd.read_csv('test.csv', header=None)\n",
    "X_test = df_test[0].values.reshape(-1, 1).T\n",
    "Y_test = df_test[1].values.reshape(-1, 1).T\n",
    "\n",
    "#Draw the curve of the training examples\n",
    "plt.scatter(X_train, Y_train)\n",
    "plt.show()\n",
    "\n",
    "#Call the model\n",
    "d = model(X_train, Y_train, X_test, Y_test, num_iterations = 1000, learning_rate = 0.01, print_cost = True)\n",
    "\n",
    "#Print out the weights\n",
    "print(\"w_1 is \" + str(d['w_1']) + \" and w_0 is \" + str(d['w_0']))"
   ]
  },
  {
   "cell_type": "markdown",
   "metadata": {},
   "source": [
    "### Plot the learning curve ###"
   ]
  },
  {
   "cell_type": "code",
   "execution_count": 7,
   "metadata": {},
   "outputs": [
    {
     "data": {
      "image/png": "[encoded data removed]",
      "text/plain": [
       "<Figure size 432x288 with 1 Axes>"
      ]
     },
     "metadata": {
      "needs_background": "light"
     },
     "output_type": "display_data"
    }
   ],
   "source": [
    "# Plot learning curve (with costs)\n",
    "costs = np.squeeze(d['costs'])\n",
    "plt.plot(costs)\n",
    "plt.ylabel('cost')\n",
    "plt.xlabel('iterations (per hundreds)')\n",
    "plt.title(\"Learning rate =\" + str(d[\"learning_rate\"]))\n",
    "plt.show()"
   ]
  },
  {
   "cell_type": "code",
   "execution_count": null,
   "metadata": {},
   "outputs": [],
   "source": []
  }
 ],
 "metadata": {
  "kernelspec": {
   "display_name": "Python 3",
   "language": "python",
   "name": "python3"
  },
  "language_info": {
   "codemirror_mode": {
    "name": "ipython",
    "version": 3
   },
   "file_extension": ".py",
   "mimetype": "text/x-python",
   "name": "python",
   "nbconvert_exporter": "python",
   "pygments_lexer": "ipython3",
   "version": "3.7.6"
  }
 },
 "nbformat": 4,
 "nbformat_minor": 2
}
